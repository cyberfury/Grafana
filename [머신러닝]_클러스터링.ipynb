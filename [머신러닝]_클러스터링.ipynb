{
  "nbformat": 4,
  "nbformat_minor": 0,
  "metadata": {
    "colab": {
      "name": "[머신러닝] 클러스터링.ipynb",
      "provenance": [],
      "collapsed_sections": []
    },
    "kernelspec": {
      "name": "python3",
      "display_name": "Python 3"
    },
    "language_info": {
      "name": "python"
    }
  },
  "cells": [
    {
      "cell_type": "code",
      "source": [
        "!git add ."
      ],
      "metadata": {
        "colab": {
          "base_uri": "https://localhost:8080/"
        },
        "id": "cLLKLcJ47Er3",
        "outputId": "1324a1a7-8678-48b1-b5fb-8cb0919741a3"
      },
      "execution_count": 2,
      "outputs": [
        {
          "output_type": "stream",
          "name": "stdout",
          "text": [
            "fatal: not a git repository (or any of the parent directories): .git\n"
          ]
        }
      ]
    },
    {
      "cell_type": "code",
      "metadata": {
        "colab": {
          "base_uri": "https://localhost:8080/"
        },
        "id": "uGuFOX8vB7vf",
        "outputId": "240d738a-f363-4c57-ef52-e4ec051559e2"
      },
      "source": [
        "import numpy as np\n",
        "import pandas as pd\n",
        "# 0. 데이터 초기화\n",
        "import seaborn as sns\n",
        "df_iris=sns.load_dataset('iris')\n",
        "df_iris.info()"
      ],
      "execution_count": 1,
      "outputs": [
        {
          "output_type": "stream",
          "name": "stdout",
          "text": [
            "<class 'pandas.core.frame.DataFrame'>\n",
            "RangeIndex: 150 entries, 0 to 149\n",
            "Data columns (total 5 columns):\n",
            " #   Column        Non-Null Count  Dtype  \n",
            "---  ------        --------------  -----  \n",
            " 0   sepal_length  150 non-null    float64\n",
            " 1   sepal_width   150 non-null    float64\n",
            " 2   petal_length  150 non-null    float64\n",
            " 3   petal_width   150 non-null    float64\n",
            " 4   species       150 non-null    object \n",
            "dtypes: float64(4), object(1)\n",
            "memory usage: 6.0+ KB\n"
          ]
        }
      ]
    },
    {
      "cell_type": "code",
      "metadata": {
        "colab": {
          "base_uri": "https://localhost:8080/"
        },
        "id": "WxV_20eLCAHj",
        "outputId": "e0c5fb64-9fce-4466-b2eb-f3c25d7f4060"
      },
      "source": [
        "# 1. 1 차원 클러스터링\n",
        "# 1) Jenks Natural Breaks Classification Method\n",
        "# https://medium.com/@febiandika10/1-dimensional-clustering-using-jenks-natural-breaks-classification-method-52f97d87ed57\n",
        "# https://guzene.tistory.com/320\n",
        "\n",
        "# K-menas와 거의 같은 알고리즘을 사용함. K-means은 2차원 이상에 적합 , 1차원은 이 알고리즘이 더 좋다고 한다.\n",
        "# 둘다 결과 또한 유사하지 일치하지 않은점 참고\n",
        "!pip install jenkspy\n",
        "import jenkspy\n",
        "breaks = jenkspy.jenks_breaks(df_iris['sepal_width'],nb_class=3)\n",
        "breaks"
      ],
      "execution_count": null,
      "outputs": [
        {
          "output_type": "stream",
          "name": "stdout",
          "text": [
            "Collecting jenkspy\n",
            "  Downloading jenkspy-0.2.0.tar.gz (55 kB)\n",
            "\u001b[?25l\r\u001b[K     |██████                          | 10 kB 25.5 MB/s eta 0:00:01\r\u001b[K     |███████████▉                    | 20 kB 32.3 MB/s eta 0:00:01\r\u001b[K     |█████████████████▊              | 30 kB 16.5 MB/s eta 0:00:01\r\u001b[K     |███████████████████████▋        | 40 kB 11.9 MB/s eta 0:00:01\r\u001b[K     |█████████████████████████████▌  | 51 kB 5.7 MB/s eta 0:00:01\r\u001b[K     |████████████████████████████████| 55 kB 2.2 MB/s \n",
            "\u001b[?25hBuilding wheels for collected packages: jenkspy\n",
            "  Building wheel for jenkspy (setup.py) ... \u001b[?25l\u001b[?25hdone\n",
            "  Created wheel for jenkspy: filename=jenkspy-0.2.0-cp37-cp37m-linux_x86_64.whl size=70407 sha256=cfe12f0f65a49d195125c53eee40d50b217fd921f316c766955cc208ad9987bd\n",
            "  Stored in directory: /root/.cache/pip/wheels/d8/d1/42/9bd05164ef706b84674905892f0542f8db6ac4a652473ca7e0\n",
            "Successfully built jenkspy\n",
            "Installing collected packages: jenkspy\n",
            "Successfully installed jenkspy-0.2.0\n"
          ]
        },
        {
          "output_type": "execute_result",
          "data": {
            "text/plain": [
              "[2.0, 2.7, 3.3, 4.4]"
            ]
          },
          "metadata": {},
          "execution_count": 2
        }
      ]
    },
    {
      "cell_type": "code",
      "metadata": {
        "colab": {
          "base_uri": "https://localhost:8080/"
        },
        "id": "okhYicoSCxoE",
        "outputId": "bb51e736-6869-4a4c-e7a5-1fed85502486"
      },
      "source": [
        "# 2.다차원 클러스터링\n",
        "\n",
        "# 1) K-Means\n",
        "from sklearn.cluster import KMeans\n",
        "#클러스터의 개수 지정(n개)\n",
        "\n",
        "Z=np.array(df_iris['sepal_width']).reshape(-1, 1) #  Kmeans 로 1차원을 구할때 reshape 트릭 사용가능\n",
        "Z=df_iris[['sepal_width','sepal_length']] # 실제로 2차원 이상으로 사용하게됨\n",
        "\n",
        "num_clusters = 3\n",
        "#알맞은 매트릭스 Z 삽입\n",
        "km = KMeans(n_clusters=num_clusters)\n",
        "km.fit(Z)\n",
        "\n",
        "df = pd.DataFrame(Z)\n",
        "df['category'] = km.labels_\n",
        "\n",
        "df.rename(columns = {0 : 'VALUE'},inplace = True)\n",
        "df['category'].value_counts() # 전체 비중을 구함"
      ],
      "execution_count": null,
      "outputs": [
        {
          "output_type": "execute_result",
          "data": {
            "text/plain": [
              "0    53\n",
              "2    50\n",
              "1    47\n",
              "Name: category, dtype: int64"
            ]
          },
          "metadata": {},
          "execution_count": 3
        }
      ]
    },
    {
      "cell_type": "code",
      "metadata": {
        "id": "0cgKmneCLHnN",
        "colab": {
          "base_uri": "https://localhost:8080/"
        },
        "outputId": "48aee65e-e142-4a18-e0ea-750a8ce270cc"
      },
      "source": [
        "# 사분위수\n",
        "Q1 = df_iris['sepal_width'].quantile(.25)\n",
        "Q3 = df_iris['sepal_width'].quantile(.75)\n",
        "IQR = Q3 - Q1\n",
        "print(IQR)"
      ],
      "execution_count": null,
      "outputs": [
        {
          "output_type": "stream",
          "name": "stdout",
          "text": [
            "0.5\n"
          ]
        }
      ]
    },
    {
      "cell_type": "code",
      "metadata": {
        "id": "MJQomcaLrT2F"
      },
      "source": [
        ""
      ],
      "execution_count": null,
      "outputs": []
    }
  ]
}